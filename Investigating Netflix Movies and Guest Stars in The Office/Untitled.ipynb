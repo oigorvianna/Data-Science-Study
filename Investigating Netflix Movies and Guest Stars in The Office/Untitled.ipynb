{
 "cells": [
  {
   "cell_type": "markdown",
   "id": "8b607992-89de-4673-847a-88d73c6589aa",
   "metadata": {},
   "source": [
    "# Investigating Netflix Movies and Guest Stars in The Office\n",
    "\n",
    "We’ll press “watch next episode” to discover if Netflix’s movies are getting shorter over time and which guest stars appear in the most popular episode of \"The Office\"."
   ]
  }
 ],
 "metadata": {
  "kernelspec": {
   "display_name": "Python 3",
   "language": "python",
   "name": "python3"
  },
  "language_info": {
   "codemirror_mode": {
    "name": "ipython",
    "version": 3
   },
   "file_extension": ".py",
   "mimetype": "text/x-python",
   "name": "python",
   "nbconvert_exporter": "python",
   "pygments_lexer": "ipython3",
   "version": "3.8.11"
  }
 },
 "nbformat": 4,
 "nbformat_minor": 5
}
