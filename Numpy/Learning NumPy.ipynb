{
 "cells": [
  {
   "cell_type": "code",
   "execution_count": 1,
   "id": "78fa81a5-14fe-44c8-a548-83dff48090ae",
   "metadata": {},
   "outputs": [],
   "source": [
    "import numpy as np\n",
    "import csv"
   ]
  },
  {
   "cell_type": "markdown",
   "id": "319b1625-ab61-43f5-adcf-818a4d22e3cc",
   "metadata": {},
   "source": [
    "# Dataset\n",
    "http://wiki.stat.ucla.edu/socr/index.php/SOCR_Data_MLB_HeightsWeights\n",
    "\n",
    "\n",
    "Human Height and Weight are mostly hereditable, but lifestyles (e.g., regular strenuous physical exercise), diet, health and environmental factors also play a role in determining individual's physical characteristics. The dataset below contains 1035 records of heights and weights for some current and recent Major League Baseball (MLB) Players. These data were obtained from different resources (e.g., IBM Many Eyes and the references below). See also the 25,000 records of adolescent height and weight.\n",
    "\n",
    "The data includes the following variables:\n",
    "\n",
    "Name: MLB Player Name\n",
    "Team: The Baseball team the player was a member of at the time the data was acquired\n",
    "Position: Player field position\n",
    "Height(inches): Player height in inches\n",
    "Weight(pounds): Player weight in pounds\n",
    "Age: Player age at time of record"
   ]
  },
  {
   "cell_type": "code",
   "execution_count": 7,
   "id": "18d0cb10-4ea0-4cad-af45-41b02245ccc0",
   "metadata": {},
   "outputs": [],
   "source": [
    "# Open file and create lists\n",
    "csv_file = open('baseball.csv', 'r')\n",
    "height_in = []\n",
    "weight_p = []\n",
    "age = []\n"
   ]
  },
  {
   "cell_type": "code",
   "execution_count": 8,
   "id": "f1fd661d-813e-4d6e-8643-60e68d355da1",
   "metadata": {},
   "outputs": [],
   "source": [
    "# Read off and discard first line, to skip headers\n",
    "csv_file.readline()\n",
    "\n",
    "# Split columns while reading\n",
    "for name, team, position, height, weight, age_v, poscategory in csv.reader(csv_file, delimiter=','):\n",
    "    # Append each variable to a separate list\n",
    "    height_in.append(float(height))\n",
    "    weight_p.append(float(weight))\n",
    "    age.append(float(age_v))"
   ]
  },
  {
   "cell_type": "code",
   "execution_count": 4,
   "id": "3dabf347-a86f-4d3d-8738-8dbbe0bfdef0",
   "metadata": {},
   "outputs": [
    {
     "name": "stdout",
     "output_type": "stream",
     "text": [
      "[74. 74. 72. ... 75. 75. 73.]\n",
      "[180. 215. 210. ... 205. 190. 195.]\n",
      "[22.99 34.69 30.78 ... 25.19 31.01 27.92]\n"
     ]
    }
   ],
   "source": [
    "# Create a numpy array from height, weight and age\n",
    "np_height = np.array(height_in)\n",
    "np_weight = np.array(weight_p)\n",
    "np_age = np.array(age)\n",
    "\n",
    "print(np_height)\n",
    "print(np_weight) \n",
    "print(np_age)\n"
   ]
  },
  {
   "cell_type": "markdown",
   "id": "89810c11-3b00-4360-8a4a-743e35ac8235",
   "metadata": {},
   "source": [
    "The height is expressed in inches. Lets use NumPy to convert the units to meters"
   ]
  },
  {
   "cell_type": "code",
   "execution_count": 6,
   "id": "f09c672f-ba21-4c09-8ee4-144e81b3dc85",
   "metadata": {},
   "outputs": [
    {
     "name": "stdout",
     "output_type": "stream",
     "text": [
      "[1.8796 1.8796 1.8288 ... 1.905  1.905  1.8542]\n"
     ]
    }
   ],
   "source": [
    " # Convert np_height to meter: np_height_m\n",
    "np_height_m = np_height * 0.0254\n",
    "\n",
    "# Print np_height_m\n",
    "print(np_height_m)"
   ]
  },
  {
   "cell_type": "code",
   "execution_count": 9,
   "id": "406da55c-f00b-4afd-8a78-82f10b5f4896",
   "metadata": {},
   "outputs": [
    {
     "name": "stdout",
     "output_type": "stream",
     "text": [
      "[81.64656 97.52228 95.25432 ... 92.98636 86.18248 88.45044]\n"
     ]
    }
   ],
   "source": [
    "# Convert np_weight to kg: np_weight_kg\n",
    "np_weight_kg = np_weight * 0.453592\n",
    "\n",
    "# Print np_weight_kg\n",
    "print(np_weight_kg)"
   ]
  },
  {
   "cell_type": "code",
   "execution_count": 10,
   "id": "18c6e827-2922-4cc7-850b-23120bcbfcb5",
   "metadata": {},
   "outputs": [
    {
     "name": "stdout",
     "output_type": "stream",
     "text": [
      "[23.11037639 27.60406069 28.48080465 ... 25.62295933 23.74810865\n",
      " 25.72686361]\n"
     ]
    }
   ],
   "source": [
    "# Calculate BMI\n",
    "bmi = np_weight_kg / np_height_m**2\n",
    "\n",
    "# Print bmi\n",
    "print(bmi)"
   ]
  },
  {
   "cell_type": "markdown",
   "id": "3038eabb-2019-426b-a812-40a0f8ad9497",
   "metadata": {},
   "source": [
    "## Subset Lightweight baseball players"
   ]
  },
  {
   "cell_type": "code",
   "execution_count": 12,
   "id": "8ab38136-819d-425d-9c35-c67aac3c566a",
   "metadata": {},
   "outputs": [
    {
     "name": "stdout",
     "output_type": "stream",
     "text": [
      "[False False False ... False False False]\n",
      "[20.54255679 20.54255679 20.69282047 20.69282047 20.34343189 20.34343189\n",
      " 20.69282047 20.15883472 19.4984471  20.69282047 20.9205219 ]\n"
     ]
    }
   ],
   "source": [
    "# Create the light array\n",
    "light = bmi < 21\n",
    "\n",
    "# Print light\n",
    "print(light)\n",
    "\n",
    "# Print BMIs of all baseball players below 21\n",
    "print(bmi[light])"
   ]
  },
  {
   "cell_type": "code",
   "execution_count": 17,
   "id": "1652abd1-cb59-4377-91a4-837b9a6cbc53",
   "metadata": {},
   "outputs": [
    {
     "name": "stdout",
     "output_type": "stream",
     "text": [
      "<class 'numpy.ndarray'>\n",
      "(1015, 3)\n",
      "[[74.      81.64656 22.99   ]\n",
      " [74.      97.52228 34.69   ]\n",
      " [72.      95.25432 30.78   ]\n",
      " ...\n",
      " [75.      92.98636 25.19   ]\n",
      " [75.      86.18248 31.01   ]\n",
      " [73.      88.45044 27.92   ]]\n"
     ]
    }
   ],
   "source": [
    "# lets create a list of lists (Weight and Height)\n",
    "# We can use the numPy Colum Stack \n",
    "np_baseball = np.column_stack((np_height, np_weight, np_age))\n",
    "\n",
    "# Print np_baseball type\n",
    "print(type(np_baseball))\n",
    "\n",
    "# Print the shape\n",
    "print(np_baseball.shape)\n",
    "\n",
    "# Print np_baseball\n",
    "print(np_baseball)"
   ]
  },
  {
   "cell_type": "code",
   "execution_count": 18,
   "id": "246d6598-333d-4104-b251-14d9b852efcc",
   "metadata": {},
   "outputs": [
    {
     "name": "stdout",
     "output_type": "stream",
     "text": [
      "[70.      88.45044 30.69   ]\n",
      "75.0\n"
     ]
    }
   ],
   "source": [
    "# Tranning Np Slice\n",
    "# Print out the 50th row of np_baseball\n",
    "print(np_baseball[49,:])\n",
    "\n",
    "# Select the entire second column of np_baseball: np_weight\n",
    "np_weight = np_baseball[:,1]\n",
    "\n",
    "# Print out height of 124th player\n",
    "print(np_baseball[123, 0])"
   ]
  },
  {
   "cell_type": "code",
   "execution_count": 21,
   "id": "62b35229-cee7-4cec-a46a-643d2c4060e9",
   "metadata": {},
   "outputs": [
    {
     "name": "stdout",
     "output_type": "stream",
     "text": [
      "[[ 1.8796     37.03422644 22.99      ]\n",
      " [ 1.8796     44.23532603 34.69      ]\n",
      " [ 1.8288     43.20659752 30.78      ]\n",
      " ...\n",
      " [ 1.905      42.17786901 25.19      ]\n",
      " [ 1.905      39.09168347 31.01      ]\n",
      " [ 1.8542     40.12041198 27.92      ]]\n"
     ]
    }
   ],
   "source": [
    "# Lets calculate BMi wisely\n",
    "conversion = np.array([0.0254, 0.453592, 1])\n",
    "\n",
    "# Print product of np_baseball and conversion\n",
    "np_baseball = np_baseball * conversion\n",
    "print(np_baseball)"
   ]
  },
  {
   "cell_type": "code",
   "execution_count": 25,
   "id": "874423dd-91ba-4ee5-a72d-69ea6864b86f",
   "metadata": {},
   "outputs": [
    {
     "name": "stdout",
     "output_type": "stream",
     "text": [
      "Average: 1.8717172413793102\n",
      "Median: 1.8717172413793102\n",
      "Standard Deviation: 0.05874491377858227\n",
      "Correlation: [[1.         0.53153932]\n",
      " [0.53153932 1.        ]]\n"
     ]
    }
   ],
   "source": [
    "# lets analyze the data\n",
    "# Print the mean of np_height\n",
    "avg = np.mean(np_baseball[:,0])\n",
    "print(\"Average: \" + str(avg))\n",
    "\n",
    "# Print median of np_height\n",
    "med = np.mean(np_baseball[:,0])\n",
    "print(\"Median: \" + str(med))\n",
    "\n",
    "# Print the standard deviation on height\n",
    "stddev = np.std(np_baseball[:,0])\n",
    "print(\"Standard Deviation: \" + str(stddev))\n",
    "\n",
    "# Print correlation between firt and second column\n",
    "corr = np.corrcoef(np_baseball[:,0], np_baseball[:,1])\n",
    "print(\"Correlation: \" + str(corr))"
   ]
  },
  {
   "cell_type": "markdown",
   "id": "dc50cb10-f5a5-41e7-8b57-2ba28eb4a04d",
   "metadata": {},
   "source": [
    "# Lets see some FIFA data\n",
    "\n",
    "The median height of goalkeepers is higher than that of other players on the soccer field?"
   ]
  },
  {
   "cell_type": "code",
   "execution_count": 68,
   "id": "0a95aec0-1f41-4e94-aa2e-1a9ce1894776",
   "metadata": {},
   "outputs": [],
   "source": [
    "# Open file and create lists\n",
    "csv_file = open('fifa.csv', 'r', encoding='utf-8')\n",
    "positions = []\n",
    "fifa_heights = []"
   ]
  },
  {
   "cell_type": "code",
   "execution_count": 69,
   "id": "8ee9ca85-d67c-4266-a22f-92ccb56ec61e",
   "metadata": {},
   "outputs": [],
   "source": [
    "# Read off and discard first line, to skip headers\n",
    "csv_file.readline()\n",
    "\n",
    "# Split columns while reading\n",
    "for id, name, rating, position, height, foot, rare, pace, shooting, passing, dribbling, defending, heading, diving, handling, kicking, reflexes, speed, positioning in csv.reader(csv_file, skipinitialspace=True, delimiter=','):\n",
    "    # Append each variable to a separate list\n",
    "    positions.append(position)\n",
    "    fifa_heights.append(float(height))\n",
    "\n"
   ]
  },
  {
   "cell_type": "code",
   "execution_count": 72,
   "id": "01bf3a58-f9f5-491e-8f2a-cd728112e5f8",
   "metadata": {},
   "outputs": [
    {
     "name": "stdout",
     "output_type": "stream",
     "text": [
      "Median height of goalkeepers: 188.0\n",
      "Median height of other players: 181.0\n"
     ]
    }
   ],
   "source": [
    "# Convert positions and heights to numpy arrays: np_positions, np_heights\n",
    "np_positions = np.array(positions)\n",
    "np_fifa_heights = np.array(fifa_heights)\n",
    "\n",
    "\n",
    "# Heights of the goalkeepers: gk_heights\n",
    "#np_positions == 'GK'\n",
    "gk_heights = np_fifa_heights[np_positions == 'GK']\n",
    "\n",
    "\n",
    "# Heights of the other players: other_heights\n",
    "other_heights = np_fifa_heights[np_positions != 'GK']\n",
    "\n",
    "# Print out the median height of goalkeepers. Replace 'None'\n",
    "print(\"Median height of goalkeepers: \" + str(np.median(gk_heights)))\n",
    "\n",
    "# Print out the median height of other players. Replace 'None'\n",
    "print(\"Median height of other players: \" + str(np.median(other_heights)))"
   ]
  },
  {
   "cell_type": "markdown",
   "id": "2bb91dbc-81a0-4167-ae00-e95cce525c5f",
   "metadata": {},
   "source": [
    "Yes! The Goalkeepers are taller than others players"
   ]
  }
 ],
 "metadata": {
  "kernelspec": {
   "display_name": "Python 3",
   "language": "python",
   "name": "python3"
  },
  "language_info": {
   "codemirror_mode": {
    "name": "ipython",
    "version": 3
   },
   "file_extension": ".py",
   "mimetype": "text/x-python",
   "name": "python",
   "nbconvert_exporter": "python",
   "pygments_lexer": "ipython3",
   "version": "3.8.11"
  }
 },
 "nbformat": 4,
 "nbformat_minor": 5
}
